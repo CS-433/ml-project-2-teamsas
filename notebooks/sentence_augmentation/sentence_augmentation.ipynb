{
 "cells": [
  {
   "cell_type": "code",
   "execution_count": 67,
   "metadata": {},
   "outputs": [
    {
     "name": "stderr",
     "output_type": "stream",
     "text": [
      "[nltk_data] Downloading package punkt to\n",
      "[nltk_data]     /Users/aryanahadinia/nltk_data...\n",
      "[nltk_data]   Package punkt is already up-to-date!\n"
     ]
    },
    {
     "data": {
      "text/plain": [
       "True"
      ]
     },
     "execution_count": 67,
     "metadata": {},
     "output_type": "execute_result"
    }
   ],
   "source": [
    "import nltk\n",
    "import pandas as pd\n",
    "from tqdm import tqdm\n",
    "\n",
    "nltk.download(\"punkt\")"
   ]
  },
  {
   "cell_type": "code",
   "execution_count": 68,
   "metadata": {},
   "outputs": [
    {
     "name": "stdout",
     "output_type": "stream",
     "text": [
      "(1983, 50)\n"
     ]
    },
    {
     "data": {
      "text/html": [
       "<div>\n",
       "<style scoped>\n",
       "    .dataframe tbody tr th:only-of-type {\n",
       "        vertical-align: middle;\n",
       "    }\n",
       "\n",
       "    .dataframe tbody tr th {\n",
       "        vertical-align: top;\n",
       "    }\n",
       "\n",
       "    .dataframe thead th {\n",
       "        text-align: right;\n",
       "    }\n",
       "</style>\n",
       "<table border=\"1\" class=\"dataframe\">\n",
       "  <thead>\n",
       "    <tr style=\"text-align: right;\">\n",
       "      <th></th>\n",
       "      <th>participant_id</th>\n",
       "      <th>collective</th>\n",
       "      <th>contrast</th>\n",
       "      <th>goal</th>\n",
       "      <th>goals2</th>\n",
       "      <th>list</th>\n",
       "      <th>metaphor</th>\n",
       "      <th>moral</th>\n",
       "      <th>question</th>\n",
       "      <th>story</th>\n",
       "      <th>...</th>\n",
       "      <th>final_text</th>\n",
       "      <th>overall_sentiment_all</th>\n",
       "      <th>positive_sentiment_all</th>\n",
       "      <th>negative_sentiment_all</th>\n",
       "      <th>neutra_sentiment_all</th>\n",
       "      <th>mixed_sentiment_all</th>\n",
       "      <th>targets</th>\n",
       "      <th>text_length_all</th>\n",
       "      <th>prolific_score</th>\n",
       "      <th>prolific_indicator_all</th>\n",
       "    </tr>\n",
       "  </thead>\n",
       "  <tbody>\n",
       "    <tr>\n",
       "      <th>0</th>\n",
       "      <td>5e1cf0eb65b6d3071f489de9</td>\n",
       "      <td>0.35</td>\n",
       "      <td>1.07</td>\n",
       "      <td>0.43</td>\n",
       "      <td>0.32</td>\n",
       "      <td>6.96</td>\n",
       "      <td>0.94</td>\n",
       "      <td>2.36</td>\n",
       "      <td>0.01</td>\n",
       "      <td>0.46</td>\n",
       "      <td>...</td>\n",
       "      <td>Hello everyone. Thank you. Taking the time to ...</td>\n",
       "      <td>POSITIVE</td>\n",
       "      <td>0.9569</td>\n",
       "      <td>0.0007</td>\n",
       "      <td>0.0417</td>\n",
       "      <td>0.0007</td>\n",
       "      <td>HIGH</td>\n",
       "      <td>771.0</td>\n",
       "      <td>100.0</td>\n",
       "      <td>2</td>\n",
       "    </tr>\n",
       "    <tr>\n",
       "      <th>1</th>\n",
       "      <td>55d06fd334e9060012e5781c</td>\n",
       "      <td>0.30</td>\n",
       "      <td>0.67</td>\n",
       "      <td>0.30</td>\n",
       "      <td>0.20</td>\n",
       "      <td>2.83</td>\n",
       "      <td>0.71</td>\n",
       "      <td>0.22</td>\n",
       "      <td>0.01</td>\n",
       "      <td>0.60</td>\n",
       "      <td>...</td>\n",
       "      <td>Hi, I am Kathy. I'd love to be considered for ...</td>\n",
       "      <td>NEUTRAL</td>\n",
       "      <td>0.1587</td>\n",
       "      <td>0.0055</td>\n",
       "      <td>0.8350</td>\n",
       "      <td>0.0009</td>\n",
       "      <td>MED</td>\n",
       "      <td>424.0</td>\n",
       "      <td>99.0</td>\n",
       "      <td>2</td>\n",
       "    </tr>\n",
       "    <tr>\n",
       "      <th>2</th>\n",
       "      <td>615586b009f801c3f2d4af8d</td>\n",
       "      <td>0.18</td>\n",
       "      <td>0.74</td>\n",
       "      <td>0.16</td>\n",
       "      <td>0.26</td>\n",
       "      <td>3.40</td>\n",
       "      <td>1.10</td>\n",
       "      <td>1.09</td>\n",
       "      <td>0.01</td>\n",
       "      <td>0.37</td>\n",
       "      <td>...</td>\n",
       "      <td>uh yeah I I think I would be the best candidat...</td>\n",
       "      <td>POSITIVE</td>\n",
       "      <td>0.8051</td>\n",
       "      <td>0.0164</td>\n",
       "      <td>0.1747</td>\n",
       "      <td>0.0039</td>\n",
       "      <td>MED</td>\n",
       "      <td>449.0</td>\n",
       "      <td>100.0</td>\n",
       "      <td>2</td>\n",
       "    </tr>\n",
       "    <tr>\n",
       "      <th>3</th>\n",
       "      <td>5847e60f73170700013697c6</td>\n",
       "      <td>0.14</td>\n",
       "      <td>2.14</td>\n",
       "      <td>0.27</td>\n",
       "      <td>0.12</td>\n",
       "      <td>3.05</td>\n",
       "      <td>0.49</td>\n",
       "      <td>0.46</td>\n",
       "      <td>0.00</td>\n",
       "      <td>1.09</td>\n",
       "      <td>...</td>\n",
       "      <td>Hello. Um I've of course a fair amount of expe...</td>\n",
       "      <td>POSITIVE</td>\n",
       "      <td>0.5761</td>\n",
       "      <td>0.1185</td>\n",
       "      <td>0.2484</td>\n",
       "      <td>0.0570</td>\n",
       "      <td>HIGH</td>\n",
       "      <td>611.0</td>\n",
       "      <td>100.0</td>\n",
       "      <td>2</td>\n",
       "    </tr>\n",
       "    <tr>\n",
       "      <th>4</th>\n",
       "      <td>6086a11397234e7f83e4e793</td>\n",
       "      <td>0.90</td>\n",
       "      <td>4.76</td>\n",
       "      <td>0.86</td>\n",
       "      <td>0.22</td>\n",
       "      <td>7.92</td>\n",
       "      <td>0.56</td>\n",
       "      <td>2.95</td>\n",
       "      <td>0.01</td>\n",
       "      <td>0.19</td>\n",
       "      <td>...</td>\n",
       "      <td>Okay, so I would like to thank you for giving ...</td>\n",
       "      <td>POSITIVE</td>\n",
       "      <td>0.8515</td>\n",
       "      <td>0.0016</td>\n",
       "      <td>0.1456</td>\n",
       "      <td>0.0013</td>\n",
       "      <td>HIGH</td>\n",
       "      <td>611.0</td>\n",
       "      <td>100.0</td>\n",
       "      <td>2</td>\n",
       "    </tr>\n",
       "  </tbody>\n",
       "</table>\n",
       "<p>5 rows × 50 columns</p>\n",
       "</div>"
      ],
      "text/plain": [
       "             participant_id  collective  contrast  goal  goals2  list  \\\n",
       "0  5e1cf0eb65b6d3071f489de9        0.35      1.07  0.43    0.32  6.96   \n",
       "1  55d06fd334e9060012e5781c        0.30      0.67  0.30    0.20  2.83   \n",
       "2  615586b009f801c3f2d4af8d        0.18      0.74  0.16    0.26  3.40   \n",
       "3  5847e60f73170700013697c6        0.14      2.14  0.27    0.12  3.05   \n",
       "4  6086a11397234e7f83e4e793        0.90      4.76  0.86    0.22  7.92   \n",
       "\n",
       "   metaphor  moral  question  story  ...  \\\n",
       "0      0.94   2.36      0.01   0.46  ...   \n",
       "1      0.71   0.22      0.01   0.60  ...   \n",
       "2      1.10   1.09      0.01   0.37  ...   \n",
       "3      0.49   0.46      0.00   1.09  ...   \n",
       "4      0.56   2.95      0.01   0.19  ...   \n",
       "\n",
       "                                          final_text  overall_sentiment_all  \\\n",
       "0  Hello everyone. Thank you. Taking the time to ...               POSITIVE   \n",
       "1  Hi, I am Kathy. I'd love to be considered for ...                NEUTRAL   \n",
       "2  uh yeah I I think I would be the best candidat...               POSITIVE   \n",
       "3  Hello. Um I've of course a fair amount of expe...               POSITIVE   \n",
       "4  Okay, so I would like to thank you for giving ...               POSITIVE   \n",
       "\n",
       "   positive_sentiment_all  negative_sentiment_all neutra_sentiment_all  \\\n",
       "0                  0.9569                  0.0007               0.0417   \n",
       "1                  0.1587                  0.0055               0.8350   \n",
       "2                  0.8051                  0.0164               0.1747   \n",
       "3                  0.5761                  0.1185               0.2484   \n",
       "4                  0.8515                  0.0016               0.1456   \n",
       "\n",
       "  mixed_sentiment_all targets  text_length_all  prolific_score  \\\n",
       "0              0.0007    HIGH            771.0           100.0   \n",
       "1              0.0009     MED            424.0            99.0   \n",
       "2              0.0039     MED            449.0           100.0   \n",
       "3              0.0570    HIGH            611.0           100.0   \n",
       "4              0.0013    HIGH            611.0           100.0   \n",
       "\n",
       "   prolific_indicator_all  \n",
       "0                       2  \n",
       "1                       2  \n",
       "2                       2  \n",
       "3                       2  \n",
       "4                       2  \n",
       "\n",
       "[5 rows x 50 columns]"
      ]
     },
     "execution_count": 68,
     "metadata": {},
     "output_type": "execute_result"
    }
   ],
   "source": [
    "data_df = pd.read_excel(\"../data/dataset.xlsx\")\n",
    "data_df = data_df.dropna()\n",
    "data_df = data_df.reset_index(drop=True)\n",
    "data_df = data_df.drop(columns=[\"Unnamed: 0\"])\n",
    "print(data_df.shape)\n",
    "data_df.head()"
   ]
  },
  {
   "cell_type": "code",
   "execution_count": 69,
   "metadata": {},
   "outputs": [],
   "source": [
    "def tokenize_text(text):\n",
    "    return nltk.word_tokenize(text)\n",
    "\n",
    "\n",
    "def create_chunks(text, min_tokens=300):\n",
    "    sentences = nltk.tokenize.sent_tokenize(text)\n",
    "    chunks = []\n",
    "    current_chunk = []\n",
    "    current_token_count = 0\n",
    "\n",
    "    for sentence in sentences:\n",
    "        sentence_tokens = tokenize_text(sentence)\n",
    "        sentence_token_count = len(sentence_tokens)\n",
    "\n",
    "        current_chunk.append(sentence)\n",
    "        current_token_count += sentence_token_count\n",
    "\n",
    "        if current_token_count >= min_tokens:\n",
    "            chunks.append(\" \".join(current_chunk))\n",
    "            current_chunk = []\n",
    "            current_token_count = 0\n",
    "\n",
    "    if current_chunk:\n",
    "        chunks.append(\" \".join(current_chunk))\n",
    "\n",
    "    return chunks"
   ]
  },
  {
   "cell_type": "code",
   "execution_count": 70,
   "metadata": {},
   "outputs": [
    {
     "name": "stderr",
     "output_type": "stream",
     "text": [
      "100%|██████████| 1983/1983 [00:03<00:00, 514.82it/s]\n"
     ]
    }
   ],
   "source": [
    "all_chunks = []\n",
    "for participant_id, text in tqdm(\n",
    "    zip(data_df[\"participant_id\"], data_df[\"final_text\"]),\n",
    "    total=data_df.shape[0],\n",
    "):\n",
    "    chunks = create_chunks(text)\n",
    "    all_chunks.append([participant_id, chunks])"
   ]
  },
  {
   "cell_type": "code",
   "execution_count": 71,
   "metadata": {},
   "outputs": [],
   "source": [
    "all_participants_ids = []\n",
    "all_chunks_ids = []\n",
    "all_chunks_texts = []\n",
    "\n",
    "for pair in all_chunks:\n",
    "    participant_id, chunks = pair\n",
    "    for chunk_id, chunk in enumerate(chunks):\n",
    "        all_participants_ids.append(participant_id)\n",
    "        all_chunks_ids.append(chunk_id)\n",
    "        all_chunks_texts.append(chunk)"
   ]
  },
  {
   "cell_type": "code",
   "execution_count": 72,
   "metadata": {},
   "outputs": [
    {
     "data": {
      "text/html": [
       "<div>\n",
       "<style scoped>\n",
       "    .dataframe tbody tr th:only-of-type {\n",
       "        vertical-align: middle;\n",
       "    }\n",
       "\n",
       "    .dataframe tbody tr th {\n",
       "        vertical-align: top;\n",
       "    }\n",
       "\n",
       "    .dataframe thead th {\n",
       "        text-align: right;\n",
       "    }\n",
       "</style>\n",
       "<table border=\"1\" class=\"dataframe\">\n",
       "  <thead>\n",
       "    <tr style=\"text-align: right;\">\n",
       "      <th></th>\n",
       "      <th>participant_id</th>\n",
       "      <th>chunk_id</th>\n",
       "      <th>chunk_text</th>\n",
       "    </tr>\n",
       "  </thead>\n",
       "  <tbody>\n",
       "    <tr>\n",
       "      <th>0</th>\n",
       "      <td>5e1cf0eb65b6d3071f489de9</td>\n",
       "      <td>0</td>\n",
       "      <td>Hello everyone. Thank you. Taking the time to ...</td>\n",
       "    </tr>\n",
       "    <tr>\n",
       "      <th>1</th>\n",
       "      <td>5e1cf0eb65b6d3071f489de9</td>\n",
       "      <td>1</td>\n",
       "      <td>Again, as I talked about those great organizat...</td>\n",
       "    </tr>\n",
       "    <tr>\n",
       "      <th>2</th>\n",
       "      <td>5e1cf0eb65b6d3071f489de9</td>\n",
       "      <td>2</td>\n",
       "      <td>So I'm pretty experienced at the moment. I'm c...</td>\n",
       "    </tr>\n",
       "    <tr>\n",
       "      <th>3</th>\n",
       "      <td>55d06fd334e9060012e5781c</td>\n",
       "      <td>0</td>\n",
       "      <td>Hi, I am Kathy. I'd love to be considered for ...</td>\n",
       "    </tr>\n",
       "    <tr>\n",
       "      <th>4</th>\n",
       "      <td>55d06fd334e9060012e5781c</td>\n",
       "      <td>1</td>\n",
       "      <td>It's been about five days, but I am reminding ...</td>\n",
       "    </tr>\n",
       "  </tbody>\n",
       "</table>\n",
       "</div>"
      ],
      "text/plain": [
       "             participant_id  chunk_id  \\\n",
       "0  5e1cf0eb65b6d3071f489de9         0   \n",
       "1  5e1cf0eb65b6d3071f489de9         1   \n",
       "2  5e1cf0eb65b6d3071f489de9         2   \n",
       "3  55d06fd334e9060012e5781c         0   \n",
       "4  55d06fd334e9060012e5781c         1   \n",
       "\n",
       "                                          chunk_text  \n",
       "0  Hello everyone. Thank you. Taking the time to ...  \n",
       "1  Again, as I talked about those great organizat...  \n",
       "2  So I'm pretty experienced at the moment. I'm c...  \n",
       "3  Hi, I am Kathy. I'd love to be considered for ...  \n",
       "4  It's been about five days, but I am reminding ...  "
      ]
     },
     "execution_count": 72,
     "metadata": {},
     "output_type": "execute_result"
    }
   ],
   "source": [
    "chunked_data_df = pd.DataFrame(\n",
    "    {\n",
    "        \"participant_id\": all_participants_ids,\n",
    "        \"chunk_id\": all_chunks_ids,\n",
    "        \"chunk_text\": all_chunks_texts,\n",
    "    }\n",
    ")\n",
    "chunked_data_df.head()"
   ]
  },
  {
   "cell_type": "code",
   "execution_count": 73,
   "metadata": {},
   "outputs": [
    {
     "data": {
      "text/plain": [
       "(5362, 51)"
      ]
     },
     "execution_count": 73,
     "metadata": {},
     "output_type": "execute_result"
    }
   ],
   "source": [
    "final_df = pd.merge(data_df, chunked_data_df, on=\"participant_id\", how=\"inner\")\n",
    "final_df = final_df.drop(columns=[\"final_text\"])\n",
    "final_df.shape"
   ]
  },
  {
   "cell_type": "code",
   "execution_count": 74,
   "metadata": {},
   "outputs": [
    {
     "data": {
      "text/plain": [
       "(4988, 51)"
      ]
     },
     "execution_count": 74,
     "metadata": {},
     "output_type": "execute_result"
    }
   ],
   "source": [
    "final_df = final_df[final_df[\"chunk_text\"].apply(lambda x: len(x.split()) >= 50)]\n",
    "final_df.shape"
   ]
  },
  {
   "cell_type": "code",
   "execution_count": 75,
   "metadata": {},
   "outputs": [],
   "source": [
    "final_df.to_csv(\"../data/chunked_dataset.csv\")"
   ]
  }
 ],
 "metadata": {
  "kernelspec": {
   "display_name": "project_env",
   "language": "python",
   "name": "python3"
  },
  "language_info": {
   "codemirror_mode": {
    "name": "ipython",
    "version": 3
   },
   "file_extension": ".py",
   "mimetype": "text/x-python",
   "name": "python",
   "nbconvert_exporter": "python",
   "pygments_lexer": "ipython3",
   "version": "3.10.8"
  }
 },
 "nbformat": 4,
 "nbformat_minor": 2
}
